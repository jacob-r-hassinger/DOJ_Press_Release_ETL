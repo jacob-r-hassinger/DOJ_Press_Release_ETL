{
 "cells": [
  {
   "cell_type": "code",
   "execution_count": 1,
   "metadata": {},
   "outputs": [],
   "source": [
    "import pandas as pd\n",
    "from sqlalchemy import create_engine"
   ]
  },
  {
   "cell_type": "code",
   "execution_count": 2,
   "metadata": {},
   "outputs": [
    {
     "data": {
      "text/html": [
       "<div>\n",
       "<style scoped>\n",
       "    .dataframe tbody tr th:only-of-type {\n",
       "        vertical-align: middle;\n",
       "    }\n",
       "\n",
       "    .dataframe tbody tr th {\n",
       "        vertical-align: top;\n",
       "    }\n",
       "\n",
       "    .dataframe thead th {\n",
       "        text-align: right;\n",
       "    }\n",
       "</style>\n",
       "<table border=\"1\" class=\"dataframe\">\n",
       "  <thead>\n",
       "    <tr style=\"text-align: right;\">\n",
       "      <th></th>\n",
       "      <th>Year Month</th>\n",
       "      <th>State</th>\n",
       "      <th>Industry</th>\n",
       "      <th>Suspicious Activity</th>\n",
       "      <th>Count</th>\n",
       "    </tr>\n",
       "  </thead>\n",
       "  <tbody>\n",
       "    <tr>\n",
       "      <td>0</td>\n",
       "      <td>2015</td>\n",
       "      <td>Alabama</td>\n",
       "      <td>Casino/Card Club - State Licensed Casino</td>\n",
       "      <td>Transaction(s) Below CTR Threshold</td>\n",
       "      <td>1</td>\n",
       "    </tr>\n",
       "    <tr>\n",
       "      <td>1</td>\n",
       "      <td>2015</td>\n",
       "      <td>Alabama</td>\n",
       "      <td>Casino/Card Club - State Licensed Casino</td>\n",
       "      <td>[Total]</td>\n",
       "      <td>1</td>\n",
       "    </tr>\n",
       "    <tr>\n",
       "      <td>2</td>\n",
       "      <td>2015</td>\n",
       "      <td>Alabama</td>\n",
       "      <td>Casino/Card Club - Tribal Authorized Casino</td>\n",
       "      <td>Alters or Cancels Transaction to Avoid BSA Rec...</td>\n",
       "      <td>2</td>\n",
       "    </tr>\n",
       "    <tr>\n",
       "      <td>3</td>\n",
       "      <td>2015</td>\n",
       "      <td>Alabama</td>\n",
       "      <td>Casino/Card Club - Tribal Authorized Casino</td>\n",
       "      <td>Bribery or Gratuity</td>\n",
       "      <td>1</td>\n",
       "    </tr>\n",
       "    <tr>\n",
       "      <td>4</td>\n",
       "      <td>2015</td>\n",
       "      <td>Alabama</td>\n",
       "      <td>Casino/Card Club - Tribal Authorized Casino</td>\n",
       "      <td>Changes Spelling or Arrangement of Name</td>\n",
       "      <td>1</td>\n",
       "    </tr>\n",
       "  </tbody>\n",
       "</table>\n",
       "</div>"
      ],
      "text/plain": [
       "  Year Month    State                                     Industry  \\\n",
       "0      2015   Alabama     Casino/Card Club - State Licensed Casino   \n",
       "1      2015   Alabama     Casino/Card Club - State Licensed Casino   \n",
       "2      2015   Alabama  Casino/Card Club - Tribal Authorized Casino   \n",
       "3      2015   Alabama  Casino/Card Club - Tribal Authorized Casino   \n",
       "4      2015   Alabama  Casino/Card Club - Tribal Authorized Casino   \n",
       "\n",
       "                                 Suspicious Activity Count  \n",
       "0                 Transaction(s) Below CTR Threshold     1  \n",
       "1                                            [Total]     1  \n",
       "2  Alters or Cancels Transaction to Avoid BSA Rec...     2  \n",
       "3                                Bribery or Gratuity     1  \n",
       "4            Changes Spelling or Arrangement of Name     1  "
      ]
     },
     "execution_count": 2,
     "metadata": {},
     "output_type": "execute_result"
    }
   ],
   "source": [
    "sar_df = pd.read_csv(\"SARstats.csv\")\n",
    "sar_df.head()"
   ]
  },
  {
   "cell_type": "code",
   "execution_count": 3,
   "metadata": {},
   "outputs": [
    {
     "data": {
      "text/html": [
       "<div>\n",
       "<style scoped>\n",
       "    .dataframe tbody tr th:only-of-type {\n",
       "        vertical-align: middle;\n",
       "    }\n",
       "\n",
       "    .dataframe tbody tr th {\n",
       "        vertical-align: top;\n",
       "    }\n",
       "\n",
       "    .dataframe thead th {\n",
       "        text-align: right;\n",
       "    }\n",
       "</style>\n",
       "<table border=\"1\" class=\"dataframe\">\n",
       "  <thead>\n",
       "    <tr style=\"text-align: right;\">\n",
       "      <th></th>\n",
       "      <th>Year Month</th>\n",
       "      <th>State</th>\n",
       "      <th>Industry</th>\n",
       "      <th>Suspicious Activity</th>\n",
       "      <th>Count</th>\n",
       "    </tr>\n",
       "  </thead>\n",
       "  <tbody>\n",
       "    <tr>\n",
       "      <td>count</td>\n",
       "      <td>82830</td>\n",
       "      <td>82830</td>\n",
       "      <td>82830</td>\n",
       "      <td>82830</td>\n",
       "      <td>82830</td>\n",
       "    </tr>\n",
       "    <tr>\n",
       "      <td>unique</td>\n",
       "      <td>7</td>\n",
       "      <td>61</td>\n",
       "      <td>12</td>\n",
       "      <td>99</td>\n",
       "      <td>5624</td>\n",
       "    </tr>\n",
       "    <tr>\n",
       "      <td>top</td>\n",
       "      <td>2019</td>\n",
       "      <td>California</td>\n",
       "      <td>Depository Institution</td>\n",
       "      <td>[Total]</td>\n",
       "      <td>1</td>\n",
       "    </tr>\n",
       "    <tr>\n",
       "      <td>freq</td>\n",
       "      <td>16267</td>\n",
       "      <td>2975</td>\n",
       "      <td>23002</td>\n",
       "      <td>2819</td>\n",
       "      <td>16322</td>\n",
       "    </tr>\n",
       "  </tbody>\n",
       "</table>\n",
       "</div>"
      ],
      "text/plain": [
       "       Year Month       State                Industry Suspicious Activity  \\\n",
       "count       82830       82830                   82830               82830   \n",
       "unique          7          61                      12                  99   \n",
       "top         2019   California  Depository Institution             [Total]   \n",
       "freq        16267        2975                   23002                2819   \n",
       "\n",
       "        Count  \n",
       "count   82830  \n",
       "unique   5624  \n",
       "top         1  \n",
       "freq    16322  "
      ]
     },
     "execution_count": 3,
     "metadata": {},
     "output_type": "execute_result"
    }
   ],
   "source": [
    "sar_df.describe()"
   ]
  },
  {
   "cell_type": "code",
   "execution_count": null,
   "metadata": {},
   "outputs": [],
   "source": []
  }
 ],
 "metadata": {
  "kernelspec": {
   "display_name": "Python 3",
   "language": "python",
   "name": "python3"
  },
  "language_info": {
   "codemirror_mode": {
    "name": "ipython",
    "version": 3
   },
   "file_extension": ".py",
   "mimetype": "text/x-python",
   "name": "python",
   "nbconvert_exporter": "python",
   "pygments_lexer": "ipython3",
   "version": "3.7.4"
  }
 },
 "nbformat": 4,
 "nbformat_minor": 2
}
